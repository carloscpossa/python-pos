{
 "cells": [
  {
   "cell_type": "code",
   "execution_count": 2,
   "metadata": {},
   "outputs": [
    {
     "name": "stdout",
     "output_type": "stream",
     "text": [
      "[('MG', 'Minas Gerais', 'SE'), ('SP', 'São Paulo', 'SE'), ('AC', 'Acre', 'NO'), ('MA', 'Maranhão', 'NE')]\n"
     ]
    }
   ],
   "source": [
    "dic = {\"MG\":\"Minas Gerais\", \"SP\":\"São Paulo\", \"AC\":\"Acre\", \"MA\":\"Maranhão\"}\n",
    "regioes = [\"SE\", \"SE\", \"NO\", \"NE\"]\n",
    "estados = list(zip(dic, dic.values(), regioes))\n",
    "print(estados)"
   ]
  },
  {
   "cell_type": "code",
   "execution_count": null,
   "metadata": {},
   "outputs": [],
   "source": []
  }
 ],
 "metadata": {
  "kernelspec": {
   "display_name": "Python 3",
   "language": "python",
   "name": "python3"
  },
  "language_info": {
   "codemirror_mode": {
    "name": "ipython",
    "version": 3
   },
   "file_extension": ".py",
   "mimetype": "text/x-python",
   "name": "python",
   "nbconvert_exporter": "python",
   "pygments_lexer": "ipython3",
   "version": "3.7.6"
  }
 },
 "nbformat": 4,
 "nbformat_minor": 4
}

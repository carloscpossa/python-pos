{
 "cells": [
  {
   "cell_type": "code",
   "execution_count": null,
   "metadata": {
    "collapsed": true
   },
   "outputs": [],
   "source": []
  },
  {
   "cell_type": "markdown",
   "metadata": {},
   "source": [
    "# Indexação e fatiamento (slicing)"
   ]
  },
  {
   "cell_type": "code",
   "execution_count": 1,
   "metadata": {},
   "outputs": [],
   "source": [
    "# Importando o NumPy\n",
    "import numpy as np"
   ]
  },
  {
   "cell_type": "code",
   "execution_count": 2,
   "metadata": {},
   "outputs": [
    {
     "data": {
      "text/plain": [
       "array([3, 7, 3, 9, 9, 3, 4, 7, 4, 4])"
      ]
     },
     "execution_count": 2,
     "metadata": {},
     "output_type": "execute_result"
    }
   ],
   "source": [
    "# Cria um ndarray com 10 elementos entre 0 e 9\n",
    "a1D = np.random.randint(0, 10, 10)\n",
    "a1D"
   ]
  },
  {
   "cell_type": "code",
   "execution_count": 3,
   "metadata": {},
   "outputs": [
    {
     "data": {
      "text/plain": [
       "array([[61, 39, 39, 27, 52],\n",
       "       [56, 72, 64,  4, 81],\n",
       "       [17, 70, 40,  9, 93],\n",
       "       [57, 62, 45, 44, 14]])"
      ]
     },
     "execution_count": 3,
     "metadata": {},
     "output_type": "execute_result"
    }
   ],
   "source": [
    "a2D = np.random.randint(1, 101, (4,5)) # Cria um ndarray de 4 linhas x 5 colunas com elementos entre 1 e 100\n",
    "a2D"
   ]
  },
  {
   "cell_type": "code",
   "execution_count": 4,
   "metadata": {},
   "outputs": [
    {
     "data": {
      "text/plain": [
       "array([[[0.60084045, 0.47823805, 0.16286408, 0.87900067, 0.01939978],\n",
       "        [0.58072993, 0.3254053 , 0.39751212, 0.61987212, 0.81452038],\n",
       "        [0.36989219, 0.90923827, 0.14510178, 0.90298709, 0.81230886],\n",
       "        [0.34407758, 0.12276281, 0.95350613, 0.66691681, 0.8205071 ]],\n",
       "\n",
       "       [[0.5860042 , 0.47495831, 0.64602408, 0.20442748, 0.9989786 ],\n",
       "        [0.3691306 , 0.38732512, 0.86111775, 0.44086241, 0.48746963],\n",
       "        [0.82126607, 0.93960826, 0.38063467, 0.83491374, 0.43644485],\n",
       "        [0.72539529, 0.1477248 , 0.33612837, 0.32412653, 0.40273058]],\n",
       "\n",
       "       [[0.92298001, 0.64113891, 0.89000906, 0.4261242 , 0.50843187],\n",
       "        [0.7963607 , 0.71634067, 0.7317767 , 0.53703049, 0.25655073],\n",
       "        [0.95171058, 0.8001937 , 0.31341223, 0.1608452 , 0.38322267],\n",
       "        [0.24581708, 0.32305816, 0.70029063, 0.66972449, 0.39179997]]])"
      ]
     },
     "execution_count": 4,
     "metadata": {},
     "output_type": "execute_result"
    }
   ],
   "source": [
    "a3D = np.random.random((3,4,5)) # Cria um ndarray de 3 páginas x 4 linhas x 5 colunas com elementos entre 0 e 1\n",
    "a3D"
   ]
  },
  {
   "cell_type": "markdown",
   "metadata": {},
   "source": [
    "### Acessando elementos específicos"
   ]
  },
  {
   "cell_type": "code",
   "execution_count": 5,
   "metadata": {},
   "outputs": [
    {
     "data": {
      "text/plain": [
       "array([3, 7, 3, 9, 9, 3, 4, 7, 4, 4])"
      ]
     },
     "execution_count": 5,
     "metadata": {},
     "output_type": "execute_result"
    }
   ],
   "source": [
    "# Acessando elementos de um ndarray de 1 dimensão\n",
    "a1D"
   ]
  },
  {
   "cell_type": "code",
   "execution_count": 6,
   "metadata": {},
   "outputs": [
    {
     "data": {
      "text/plain": [
       "3"
      ]
     },
     "execution_count": 6,
     "metadata": {},
     "output_type": "execute_result"
    }
   ],
   "source": [
    "# nome_do_array[índice]\n",
    "a1D[0]"
   ]
  },
  {
   "cell_type": "code",
   "execution_count": 7,
   "metadata": {},
   "outputs": [
    {
     "data": {
      "text/plain": [
       "3"
      ]
     },
     "execution_count": 7,
     "metadata": {},
     "output_type": "execute_result"
    }
   ],
   "source": [
    "a1D[2]"
   ]
  },
  {
   "cell_type": "code",
   "execution_count": 8,
   "metadata": {},
   "outputs": [
    {
     "data": {
      "text/plain": [
       "4"
      ]
     },
     "execution_count": 8,
     "metadata": {},
     "output_type": "execute_result"
    }
   ],
   "source": [
    "a1D[-1]"
   ]
  },
  {
   "cell_type": "code",
   "execution_count": 9,
   "metadata": {},
   "outputs": [
    {
     "data": {
      "text/plain": [
       "array([9, 3, 4])"
      ]
     },
     "execution_count": 9,
     "metadata": {},
     "output_type": "execute_result"
    }
   ],
   "source": [
    "indices = [3, 0, -1] # Definindo uma lista com os índices que se deseja acessar\n",
    "a1D[indices]"
   ]
  },
  {
   "cell_type": "code",
   "execution_count": 10,
   "metadata": {},
   "outputs": [
    {
     "data": {
      "text/plain": [
       "array([[61, 39, 39, 27, 52],\n",
       "       [56, 72, 64,  4, 81],\n",
       "       [17, 70, 40,  9, 93],\n",
       "       [57, 62, 45, 44, 14]])"
      ]
     },
     "execution_count": 10,
     "metadata": {},
     "output_type": "execute_result"
    }
   ],
   "source": [
    "# Acessando elementos de um ndarray de 2 dimensões\n",
    "a2D"
   ]
  },
  {
   "cell_type": "code",
   "execution_count": 11,
   "metadata": {},
   "outputs": [
    {
     "data": {
      "text/plain": [
       "64"
      ]
     },
     "execution_count": 11,
     "metadata": {},
     "output_type": "execute_result"
    }
   ],
   "source": [
    "# nome_da_matriz[linha][coluna]\n",
    "a2D[1][2]"
   ]
  },
  {
   "cell_type": "code",
   "execution_count": 12,
   "metadata": {},
   "outputs": [
    {
     "data": {
      "text/plain": [
       "14"
      ]
     },
     "execution_count": 12,
     "metadata": {},
     "output_type": "execute_result"
    }
   ],
   "source": [
    "a2D[3][4]"
   ]
  },
  {
   "cell_type": "code",
   "execution_count": 13,
   "metadata": {},
   "outputs": [
    {
     "data": {
      "text/plain": [
       "array([61, 72, 40, 44])"
      ]
     },
     "execution_count": 13,
     "metadata": {},
     "output_type": "execute_result"
    }
   ],
   "source": [
    "indice_lin = [0, 1, 2, 3]\n",
    "indice_col = [0, 1, 2, 3]\n",
    "\n",
    "a2D[indice_lin, indice_col]"
   ]
  },
  {
   "cell_type": "code",
   "execution_count": 14,
   "metadata": {},
   "outputs": [
    {
     "data": {
      "text/plain": [
       "array([27, 64, 70, 57])"
      ]
     },
     "execution_count": 14,
     "metadata": {},
     "output_type": "execute_result"
    }
   ],
   "source": [
    "indice_lin = [0, 1, 2, 3]\n",
    "indice_col = [3, 2, 1, 0]\n",
    "\n",
    "a2D[indice_lin, indice_col]"
   ]
  },
  {
   "cell_type": "code",
   "execution_count": 16,
   "metadata": {},
   "outputs": [
    {
     "data": {
      "text/plain": [
       "array([44, 40, 72, 61])"
      ]
     },
     "execution_count": 16,
     "metadata": {},
     "output_type": "execute_result"
    }
   ],
   "source": [
    "indice_lin = [3, 2, 1, 0]\n",
    "indice_col = [3, 2, 1, 0]\n",
    "\n",
    "a2D[indice_lin, indice_col]"
   ]
  },
  {
   "cell_type": "code",
   "execution_count": 17,
   "metadata": {},
   "outputs": [
    {
     "data": {
      "text/plain": [
       "array([[61, 39, 39, 61],\n",
       "       [56, 72, 64, 56],\n",
       "       [17, 70, 40, 17],\n",
       "       [57, 62, 45, 57]])"
      ]
     },
     "execution_count": 17,
     "metadata": {},
     "output_type": "execute_result"
    }
   ],
   "source": [
    "a2D[:,[0,1,2,0]] "
   ]
  },
  {
   "cell_type": "code",
   "execution_count": 18,
   "metadata": {},
   "outputs": [
    {
     "data": {
      "text/plain": [
       "array([[56, 72, 64, 56],\n",
       "       [61, 39, 39, 61],\n",
       "       [56, 72, 64, 56],\n",
       "       [61, 39, 39, 61]])"
      ]
     },
     "execution_count": 18,
     "metadata": {},
     "output_type": "execute_result"
    }
   ],
   "source": [
    "a2D[:,[0,1,2,0]][[1, 0, 1, 0]]"
   ]
  },
  {
   "cell_type": "code",
   "execution_count": 19,
   "metadata": {},
   "outputs": [
    {
     "data": {
      "text/plain": [
       "array([[61, 39, 39, 27, 52],\n",
       "       [56, 72, 64,  4, 81],\n",
       "       [17, 70, 40,  9, 93],\n",
       "       [57, 62, 45, 44, 14]])"
      ]
     },
     "execution_count": 19,
     "metadata": {},
     "output_type": "execute_result"
    }
   ],
   "source": [
    "a2D"
   ]
  },
  {
   "cell_type": "code",
   "execution_count": 20,
   "metadata": {},
   "outputs": [
    {
     "data": {
      "text/plain": [
       "array([[56, 72, 64, 56],\n",
       "       [61, 39, 39, 61],\n",
       "       [56, 72, 64, 56],\n",
       "       [61, 39, 39, 61]])"
      ]
     },
     "execution_count": 20,
     "metadata": {},
     "output_type": "execute_result"
    }
   ],
   "source": [
    "a2D[[1, 0, 1, 0]][:,[0,1,2,0]] "
   ]
  },
  {
   "cell_type": "code",
   "execution_count": 21,
   "metadata": {},
   "outputs": [
    {
     "data": {
      "text/plain": [
       "array([[[0.60084045, 0.47823805, 0.16286408, 0.87900067, 0.01939978],\n",
       "        [0.58072993, 0.3254053 , 0.39751212, 0.61987212, 0.81452038],\n",
       "        [0.36989219, 0.90923827, 0.14510178, 0.90298709, 0.81230886],\n",
       "        [0.34407758, 0.12276281, 0.95350613, 0.66691681, 0.8205071 ]],\n",
       "\n",
       "       [[0.5860042 , 0.47495831, 0.64602408, 0.20442748, 0.9989786 ],\n",
       "        [0.3691306 , 0.38732512, 0.86111775, 0.44086241, 0.48746963],\n",
       "        [0.82126607, 0.93960826, 0.38063467, 0.83491374, 0.43644485],\n",
       "        [0.72539529, 0.1477248 , 0.33612837, 0.32412653, 0.40273058]],\n",
       "\n",
       "       [[0.92298001, 0.64113891, 0.89000906, 0.4261242 , 0.50843187],\n",
       "        [0.7963607 , 0.71634067, 0.7317767 , 0.53703049, 0.25655073],\n",
       "        [0.95171058, 0.8001937 , 0.31341223, 0.1608452 , 0.38322267],\n",
       "        [0.24581708, 0.32305816, 0.70029063, 0.66972449, 0.39179997]]])"
      ]
     },
     "execution_count": 21,
     "metadata": {},
     "output_type": "execute_result"
    }
   ],
   "source": [
    "# Acessando elementos de um ndarray de 3 dimensões\n",
    "a3D"
   ]
  },
  {
   "cell_type": "code",
   "execution_count": 22,
   "metadata": {},
   "outputs": [
    {
     "data": {
      "text/plain": [
       "0.4261241985290968"
      ]
     },
     "execution_count": 22,
     "metadata": {},
     "output_type": "execute_result"
    }
   ],
   "source": [
    "# nome_do_cubo[página][linha][coluna]\n",
    "a3D[2][0][3]"
   ]
  },
  {
   "cell_type": "code",
   "execution_count": 23,
   "metadata": {},
   "outputs": [
    {
     "data": {
      "text/plain": [
       "0.12276280690721564"
      ]
     },
     "execution_count": 23,
     "metadata": {},
     "output_type": "execute_result"
    }
   ],
   "source": [
    "a3D[0][3][1]"
   ]
  },
  {
   "cell_type": "markdown",
   "metadata": {},
   "source": [
    "### Fatiamento (slicing)"
   ]
  },
  {
   "cell_type": "code",
   "execution_count": 24,
   "metadata": {},
   "outputs": [
    {
     "data": {
      "text/plain": [
       "array([3, 7, 3, 9, 9, 3, 4, 7, 4, 4])"
      ]
     },
     "execution_count": 24,
     "metadata": {},
     "output_type": "execute_result"
    }
   ],
   "source": [
    "# Array de 1 dimensão\n",
    "a1D"
   ]
  },
  {
   "cell_type": "code",
   "execution_count": 25,
   "metadata": {},
   "outputs": [
    {
     "data": {
      "text/plain": [
       "array([7, 3, 9, 9])"
      ]
     },
     "execution_count": 25,
     "metadata": {},
     "output_type": "execute_result"
    }
   ],
   "source": [
    "a = a1D[1:5] # Índice 1 ao 4\n",
    "a"
   ]
  },
  {
   "cell_type": "code",
   "execution_count": 26,
   "metadata": {},
   "outputs": [
    {
     "data": {
      "text/plain": [
       "array([3, 7, 3, 9, 9, 3])"
      ]
     },
     "execution_count": 26,
     "metadata": {},
     "output_type": "execute_result"
    }
   ],
   "source": [
    "b = a1D[0:6] # Índice 0 ao 5\n",
    "b"
   ]
  },
  {
   "cell_type": "code",
   "execution_count": 27,
   "metadata": {},
   "outputs": [
    {
     "data": {
      "text/plain": [
       "array([3, 7, 3, 9, 9, 3])"
      ]
     },
     "execution_count": 27,
     "metadata": {},
     "output_type": "execute_result"
    }
   ],
   "source": [
    "c = a1D[:6] # Do início ao 5\n",
    "c"
   ]
  },
  {
   "cell_type": "code",
   "execution_count": 28,
   "metadata": {},
   "outputs": [
    {
     "data": {
      "text/plain": [
       "array([3, 3, 9, 4, 4])"
      ]
     },
     "execution_count": 28,
     "metadata": {},
     "output_type": "execute_result"
    }
   ],
   "source": [
    "d = a1D[::2] # Do início ao fim, com passo 2\n",
    "d"
   ]
  },
  {
   "cell_type": "code",
   "execution_count": 29,
   "metadata": {},
   "outputs": [
    {
     "data": {
      "text/plain": [
       "array([4, 4, 7, 4, 3, 9, 9, 3, 7, 3])"
      ]
     },
     "execution_count": 29,
     "metadata": {},
     "output_type": "execute_result"
    }
   ],
   "source": [
    "e = a1D[-1::-1] # Do final até o início\n",
    "e"
   ]
  },
  {
   "cell_type": "code",
   "execution_count": 30,
   "metadata": {},
   "outputs": [
    {
     "data": {
      "text/plain": [
       "array([[61, 39, 39, 27, 52],\n",
       "       [56, 72, 64,  4, 81],\n",
       "       [17, 70, 40,  9, 93],\n",
       "       [57, 62, 45, 44, 14]])"
      ]
     },
     "execution_count": 30,
     "metadata": {},
     "output_type": "execute_result"
    }
   ],
   "source": [
    "# Array de 2 dimensões\n",
    "a2D"
   ]
  },
  {
   "cell_type": "code",
   "execution_count": 31,
   "metadata": {},
   "outputs": [
    {
     "data": {
      "text/plain": [
       "array([61, 39, 39, 27, 52])"
      ]
     },
     "execution_count": 31,
     "metadata": {},
     "output_type": "execute_result"
    }
   ],
   "source": [
    "linha0 = a2D[0] # Todos os elementos da linha 0 - outra forma seria: linha0 = a2D[0,:]\n",
    "linha0"
   ]
  },
  {
   "cell_type": "code",
   "execution_count": 32,
   "metadata": {},
   "outputs": [
    {
     "data": {
      "text/plain": [
       "array([56, 72, 64,  4, 81])"
      ]
     },
     "execution_count": 32,
     "metadata": {},
     "output_type": "execute_result"
    }
   ],
   "source": [
    "linha1 = a2D[1,:] # Todos os elementos da linha 1\n",
    "linha1"
   ]
  },
  {
   "cell_type": "code",
   "execution_count": 33,
   "metadata": {},
   "outputs": [
    {
     "data": {
      "text/plain": [
       "array([70, 40,  9])"
      ]
     },
     "execution_count": 33,
     "metadata": {},
     "output_type": "execute_result"
    }
   ],
   "source": [
    "linha2 = a2D[2,1:4] # Linha 2, colunas 1, 2 e 3\n",
    "linha2"
   ]
  },
  {
   "cell_type": "code",
   "execution_count": 34,
   "metadata": {},
   "outputs": [
    {
     "data": {
      "text/plain": [
       "array([57, 62, 45, 44, 14])"
      ]
     },
     "execution_count": 34,
     "metadata": {},
     "output_type": "execute_result"
    }
   ],
   "source": [
    "linha3 = a2D[:][3] # a2D[:] retorna toda a matriz, então de toda a matriz queremos a linha 3 a2D[:][3]\n",
    "linha3"
   ]
  },
  {
   "cell_type": "code",
   "execution_count": 35,
   "metadata": {},
   "outputs": [
    {
     "data": {
      "text/plain": [
       "array([39, 64, 40, 45])"
      ]
     },
     "execution_count": 35,
     "metadata": {},
     "output_type": "execute_result"
    }
   ],
   "source": [
    "coluna2 = a2D[:,2] # De todas as linhas, selecionar a coluna 2\n",
    "coluna2"
   ]
  },
  {
   "cell_type": "code",
   "execution_count": 36,
   "metadata": {},
   "outputs": [
    {
     "data": {
      "text/plain": [
       "array([ 4,  9, 44])"
      ]
     },
     "execution_count": 36,
     "metadata": {},
     "output_type": "execute_result"
    }
   ],
   "source": [
    "coluna3 = a2D[1:,3] # Da linha um até a última, selecionar a coluna 3\n",
    "coluna3"
   ]
  },
  {
   "cell_type": "code",
   "execution_count": 37,
   "metadata": {},
   "outputs": [
    {
     "data": {
      "text/plain": [
       "array([[[0.60084045, 0.47823805, 0.16286408, 0.87900067, 0.01939978],\n",
       "        [0.58072993, 0.3254053 , 0.39751212, 0.61987212, 0.81452038],\n",
       "        [0.36989219, 0.90923827, 0.14510178, 0.90298709, 0.81230886],\n",
       "        [0.34407758, 0.12276281, 0.95350613, 0.66691681, 0.8205071 ]],\n",
       "\n",
       "       [[0.5860042 , 0.47495831, 0.64602408, 0.20442748, 0.9989786 ],\n",
       "        [0.3691306 , 0.38732512, 0.86111775, 0.44086241, 0.48746963],\n",
       "        [0.82126607, 0.93960826, 0.38063467, 0.83491374, 0.43644485],\n",
       "        [0.72539529, 0.1477248 , 0.33612837, 0.32412653, 0.40273058]],\n",
       "\n",
       "       [[0.92298001, 0.64113891, 0.89000906, 0.4261242 , 0.50843187],\n",
       "        [0.7963607 , 0.71634067, 0.7317767 , 0.53703049, 0.25655073],\n",
       "        [0.95171058, 0.8001937 , 0.31341223, 0.1608452 , 0.38322267],\n",
       "        [0.24581708, 0.32305816, 0.70029063, 0.66972449, 0.39179997]]])"
      ]
     },
     "execution_count": 37,
     "metadata": {},
     "output_type": "execute_result"
    }
   ],
   "source": [
    "# Array de 3 dimensões\n",
    "a3D"
   ]
  },
  {
   "cell_type": "code",
   "execution_count": 38,
   "metadata": {},
   "outputs": [
    {
     "data": {
      "text/plain": [
       "array([[0.5860042 , 0.47495831, 0.64602408, 0.20442748, 0.9989786 ],\n",
       "       [0.3691306 , 0.38732512, 0.86111775, 0.44086241, 0.48746963],\n",
       "       [0.82126607, 0.93960826, 0.38063467, 0.83491374, 0.43644485],\n",
       "       [0.72539529, 0.1477248 , 0.33612837, 0.32412653, 0.40273058]])"
      ]
     },
     "execution_count": 38,
     "metadata": {},
     "output_type": "execute_result"
    }
   ],
   "source": [
    "# Acessando a página/face 1\n",
    "face1 = a3D[1]\n",
    "face1"
   ]
  },
  {
   "cell_type": "code",
   "execution_count": 39,
   "metadata": {},
   "outputs": [
    {
     "data": {
      "text/plain": [
       "array([[0.47495831, 0.64602408, 0.20442748],\n",
       "       [0.38732512, 0.86111775, 0.44086241],\n",
       "       [0.93960826, 0.38063467, 0.83491374]])"
      ]
     },
     "execution_count": 39,
     "metadata": {},
     "output_type": "execute_result"
    }
   ],
   "source": [
    "# Acessando uma parte da face1\n",
    "subface1 = a3D[1,0:3, 1:4]\n",
    "subface1"
   ]
  },
  {
   "cell_type": "code",
   "execution_count": 40,
   "metadata": {},
   "outputs": [
    {
     "data": {
      "text/plain": [
       "array([0.36989219, 0.90923827, 0.14510178, 0.90298709, 0.81230886])"
      ]
     },
     "execution_count": 40,
     "metadata": {},
     "output_type": "execute_result"
    }
   ],
   "source": [
    "linha2face0 = a3D[0,2] # outra forma: linha2face0 = a3D[0,2,:]\n",
    "linha2face0"
   ]
  },
  {
   "cell_type": "code",
   "execution_count": 41,
   "metadata": {},
   "outputs": [
    {
     "data": {
      "text/plain": [
       "array([[[0.60084045, 0.47823805, 0.16286408, 0.87900067, 0.01939978],\n",
       "        [0.58072993, 0.3254053 , 0.39751212, 0.61987212, 0.81452038],\n",
       "        [0.36989219, 0.90923827, 0.14510178, 0.90298709, 0.81230886],\n",
       "        [0.34407758, 0.12276281, 0.95350613, 0.66691681, 0.8205071 ]],\n",
       "\n",
       "       [[0.5860042 , 0.47495831, 0.64602408, 0.20442748, 0.9989786 ],\n",
       "        [0.3691306 , 0.38732512, 0.86111775, 0.44086241, 0.48746963],\n",
       "        [0.82126607, 0.93960826, 0.38063467, 0.83491374, 0.43644485],\n",
       "        [0.72539529, 0.1477248 , 0.33612837, 0.32412653, 0.40273058]],\n",
       "\n",
       "       [[0.92298001, 0.64113891, 0.89000906, 0.4261242 , 0.50843187],\n",
       "        [0.7963607 , 0.71634067, 0.7317767 , 0.53703049, 0.25655073],\n",
       "        [0.95171058, 0.8001937 , 0.31341223, 0.1608452 , 0.38322267],\n",
       "        [0.24581708, 0.32305816, 0.70029063, 0.66972449, 0.39179997]]])"
      ]
     },
     "execution_count": 41,
     "metadata": {},
     "output_type": "execute_result"
    }
   ],
   "source": [
    "a3D"
   ]
  },
  {
   "cell_type": "code",
   "execution_count": 42,
   "metadata": {},
   "outputs": [
    {
     "data": {
      "text/plain": [
       "array([[0.58072993, 0.3254053 , 0.39751212, 0.61987212, 0.81452038],\n",
       "       [0.3691306 , 0.38732512, 0.86111775, 0.44086241, 0.48746963],\n",
       "       [0.7963607 , 0.71634067, 0.7317767 , 0.53703049, 0.25655073]])"
      ]
     },
     "execution_count": 42,
     "metadata": {},
     "output_type": "execute_result"
    }
   ],
   "source": [
    "linha1todasfaces = a3D[:,1] # outra forma: linha1todasfaces = a3D[:,1,:]\n",
    "linha1todasfaces"
   ]
  },
  {
   "cell_type": "code",
   "execution_count": 43,
   "metadata": {},
   "outputs": [
    {
     "data": {
      "text/plain": [
       "array([[0.87900067, 0.61987212, 0.90298709, 0.66691681],\n",
       "       [0.20442748, 0.44086241, 0.83491374, 0.32412653],\n",
       "       [0.4261242 , 0.53703049, 0.1608452 , 0.66972449]])"
      ]
     },
     "execution_count": 43,
     "metadata": {},
     "output_type": "execute_result"
    }
   ],
   "source": [
    "coluna3todasfaces = a3D[:,:,3]\n",
    "coluna3todasfaces"
   ]
  },
  {
   "cell_type": "markdown",
   "metadata": {},
   "source": [
    "### Indexação com booleanos"
   ]
  },
  {
   "cell_type": "code",
   "execution_count": 44,
   "metadata": {},
   "outputs": [
    {
     "data": {
      "text/plain": [
       "array([[394,  98, 316,  55, 145,  73, 287, 300],\n",
       "       [281, 428, 477, 337, 199,  25, 265, 444],\n",
       "       [192,  10, 422, 409, 247,  82, 435, 208],\n",
       "       [124, 468, 421, 216, 359, 357,  19, 222],\n",
       "       [151,  48, 228, 482, 144, 470,  88, 339],\n",
       "       [290, 263, 155, 220, 295,   6, 349, 159],\n",
       "       [203, 335,  11, 103, 218, 196, 199, 213],\n",
       "       [308, 187, 257, 469, 101, 182,  39, 180],\n",
       "       [486, 478,  45, 365, 461,  42, 296, 129],\n",
       "       [322, 368,  94, 442, 259, 345, 328, 179]])"
      ]
     },
     "execution_count": 44,
     "metadata": {},
     "output_type": "execute_result"
    }
   ],
   "source": [
    "a2D = np.random.randint(1, 501, (10, 8)) # Cria um ndarray de 9 linhas x 8 colunas com elementos entre 1 e 100\n",
    "a2D"
   ]
  },
  {
   "cell_type": "code",
   "execution_count": null,
   "metadata": {},
   "outputs": [],
   "source": [
    "a2D >= 250"
   ]
  },
  {
   "cell_type": "code",
   "execution_count": null,
   "metadata": {},
   "outputs": [],
   "source": [
    "a2D[a2D >= 250]"
   ]
  },
  {
   "cell_type": "code",
   "execution_count": null,
   "metadata": {},
   "outputs": [],
   "source": [
    "a2D.mean()"
   ]
  },
  {
   "cell_type": "code",
   "execution_count": null,
   "metadata": {},
   "outputs": [],
   "source": [
    "a2D[a2D <= a2D.mean()]"
   ]
  },
  {
   "cell_type": "code",
   "execution_count": null,
   "metadata": {
    "collapsed": true
   },
   "outputs": [],
   "source": []
  }
 ],
 "metadata": {
  "kernelspec": {
   "display_name": "Python 3",
   "language": "python",
   "name": "python3"
  },
  "language_info": {
   "codemirror_mode": {
    "name": "ipython",
    "version": 3
   },
   "file_extension": ".py",
   "mimetype": "text/x-python",
   "name": "python",
   "nbconvert_exporter": "python",
   "pygments_lexer": "ipython3",
   "version": "3.7.6"
  }
 },
 "nbformat": 4,
 "nbformat_minor": 2
}
